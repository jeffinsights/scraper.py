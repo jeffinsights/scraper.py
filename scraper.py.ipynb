{
 "cells": [
  {
   "cell_type": "code",
   "execution_count": 1,
   "id": "4a02c33f-b6f3-46b9-9ae4-f453b8c45b7c",
   "metadata": {},
   "outputs": [
    {
     "name": "stdout",
     "output_type": "stream",
     "text": [
      "            Currency         Rate\n",
      "0     Argentine Peso  1184.089969\n",
      "1  Australian Dollar     1.542740\n",
      "2     Bahraini Dinar     0.376000\n",
      "3      Botswana Pula    13.413854\n",
      "4     Brazilian Real     5.574033\n"
     ]
    }
   ],
   "source": [
    "import requests\n",
    "from bs4 import BeautifulSoup\n",
    "import pandas as pd\n",
    "\n",
    "# Usamos un sitio simple con HTML estático\n",
    "url = \"https://www.x-rates.com/table/?from=USD&amount=1\"\n",
    "\n",
    "# Hacemos la solicitud HTTP\n",
    "response = requests.get(url)\n",
    "\n",
    "# Parseamos el HTML\n",
    "soup = BeautifulSoup(response.text, 'html.parser')\n",
    "\n",
    "# Buscamos la tabla principal\n",
    "table = soup.find('table', class_='tablesorter ratesTable')\n",
    "\n",
    "# Extraemos filas\n",
    "rows = table.find_all('tr')[1:]  # ignoramos encabezado\n",
    "\n",
    "# Guardamos los datos\n",
    "data = []\n",
    "for row in rows:\n",
    "    cols = row.find_all('td')\n",
    "    if len(cols) >= 2:\n",
    "        currency = cols[0].text.strip()\n",
    "        rate = cols[1].text.strip()\n",
    "        data.append({'Currency': currency, 'Rate': rate})\n",
    "\n",
    "# Creamos el DataFrame\n",
    "df = pd.DataFrame(data)\n",
    "\n",
    "# Limpiamos datos (convertimos tasas a números)\n",
    "df['Rate'] = df['Rate'].str.replace(',', '').astype(float)\n",
    "\n",
    "# Guardamos en CSV\n",
    "df.to_csv('exchange_rates.csv', index=False)\n",
    "\n",
    "print(df.head())\n"
   ]
  },
  {
   "cell_type": "code",
   "execution_count": null,
   "id": "3e616a1e-dac1-42a1-8608-c335f63728a8",
   "metadata": {},
   "outputs": [],
   "source": []
  }
 ],
 "metadata": {
  "kernelspec": {
   "display_name": "Python [conda env:base] *",
   "language": "python",
   "name": "conda-base-py"
  },
  "language_info": {
   "codemirror_mode": {
    "name": "ipython",
    "version": 3
   },
   "file_extension": ".py",
   "mimetype": "text/x-python",
   "name": "python",
   "nbconvert_exporter": "python",
   "pygments_lexer": "ipython3",
   "version": "3.12.7"
  }
 },
 "nbformat": 4,
 "nbformat_minor": 5
}
